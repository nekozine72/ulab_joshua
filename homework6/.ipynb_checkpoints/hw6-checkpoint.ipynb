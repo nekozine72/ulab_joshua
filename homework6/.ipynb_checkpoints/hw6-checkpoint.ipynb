{
 "cells": [
  {
   "cell_type": "markdown",
   "id": "21a1f0d2-d75c-4443-b816-1d1db3760454",
   "metadata": {},
   "source": [
    "# HW 6 - Iterables\n",
    "ULAB - Physics and Astronomy Division \\\n",
    "Due **Wednesday, October 30th, 2024 at 11:59pm** on Gradescope\n",
    "\n",
    "### REMINDER: Once you are done with this homework, make sure to include a screenshot of you pushing this notebook inside of your homework6 branch. Make sure to include this screenshot in your branch before submitting to Gradescope!\n",
    "\n",
    "### If there is no screenshot, then you will recieve a zero! \n",
    "\n",
    "General Tip (so you don't get silly points taken off):\n",
    "- Make sure **each function** follows good coding practices (i.e. a comment, detailed names, different steps on each line, etc)."
   ]
  },
  {
   "cell_type": "markdown",
   "id": "8dc7e46b-1e8e-486c-a2e9-d615c687028b",
   "metadata": {},
   "source": [
    "# 1 Lists\n",
    "\n",
    "## 1.1 List Slicing and Striding\n",
    "Write a **function** that takes in a list of integers and returns:\n",
    "\n",
    "- the first 5 elements\n",
    "- the last 5 elements\n",
    "- every 2nd element in the list\n",
    "- the list in reverse order.\n",
    "\n",
    "Use the test case below, along with two other ones (that you make-up):\n",
    "\n",
    "```\n",
    "list = [1, 2, 3, 4, 5, 6, 7, 8, 9, 10, 11, 12, 14, 15, 16, 17, 18, 19, 20]\n",
    "```"
   ]
  },
  {
   "cell_type": "code",
   "execution_count": 24,
   "id": "08dabd73-3dbc-4aab-843a-d4b81102835d",
   "metadata": {},
   "outputs": [
    {
     "name": "stdout",
     "output_type": "stream",
     "text": [
      "([1, 2, 3, 4, 5], [20, 19, 18, 17, 16], [1, 3, 5, 7, 9, 11, 14, 16, 18, 20], [20, 19, 18, 17, 16, 15, 14, 12, 11, 10, 9, 8, 7, 6, 5, 4, 3, 2, 1])\n",
      "([10, 20, 30, 40, 50], [100, 90, 80, 70, 60], [10, 30, 50, 70, 90], [100, 90, 80, 70, 60, 50, 40, 30, 20, 10])\n",
      "([7, 4, 7, 6, 2], [3, 0, 8, 7, 6], [7, 7, 2, 9, 6, 8, 3], [3, 0, 8, 7, 6, 5, 9, 1, 2, 6, 7, 4, 7])\n"
     ]
    }
   ],
   "source": [
    "def slicing(list):\n",
    "    #takes a list and splices specific sections of it\n",
    "    first = list[:5:]\n",
    "    last = list[:-6:-1]\n",
    "    second = list[::2]\n",
    "    reverse = list[::-1]\n",
    "    return first, last, second, reverse\n",
    "\n",
    "list = [1, 2, 3, 4, 5, 6, 7, 8, 9, 10, 11, 12, 14, 15, 16, 17, 18, 19, 20]\n",
    "print(slicing(list))\n",
    "list = [10, 20, 30, 40, 50, 60, 70, 80, 90, 100]\n",
    "print(slicing(list))\n",
    "list = [7, 4, 7, 6, 2, 1, 9, 5, 6, 7, 8, 0, 3]\n",
    "print(slicing(list))"
   ]
  },
  {
   "cell_type": "markdown",
   "id": "92c77920-20fc-455e-bf52-10b5a518ed2d",
   "metadata": {},
   "source": [
    "## 1.2 Iterating Over Lists with For Loops\n",
    "Write a **function** that takes in a list, with a **for** loop to return: \n",
    "- the square of each number in the list\n",
    "- the cube of each even number in the list\n",
    "\n",
    "Use the test case below, along with two other ones (that you make-up):\n",
    "\n",
    "```\n",
    "list = [1, 2, 3, 4, 5, 6]\n",
    "```"
   ]
  },
  {
   "cell_type": "code",
   "execution_count": 32,
   "id": "5054c807-a247-4159-9ce1-43020bcc3000",
   "metadata": {},
   "outputs": [
    {
     "name": "stdout",
     "output_type": "stream",
     "text": [
      "1\n",
      "4\n",
      "9\n",
      "16\n",
      "25\n",
      "36\n",
      "1\n",
      "8\n",
      "27\n",
      "64\n",
      "125\n",
      "216\n",
      "81\n",
      "64\n",
      "36\n",
      "9\n",
      "4\n",
      "25\n",
      "729\n",
      "512\n",
      "216\n",
      "27\n",
      "8\n",
      "125\n",
      "9\n",
      "4\n",
      "25\n",
      "9\n",
      "25\n",
      "27\n",
      "8\n",
      "125\n",
      "27\n",
      "125\n"
     ]
    }
   ],
   "source": [
    "def square_and_cube(list):\n",
    "    #returns the squares and cubes of each number in a list\n",
    "    for number in list:\n",
    "        print(number ** 2)\n",
    "    for number in list:\n",
    "        print(number ** 3)\n",
    "\n",
    "list = [1, 2, 3, 4, 5, 6]\n",
    "square_and_cube(list)\n",
    "list = [9, 8 ,6, 3, 2, 5]\n",
    "square_and_cube(list)\n",
    "list = [3, 2, 5, 3, 5]\n",
    "square_and_cube(list)"
   ]
  },
  {
   "cell_type": "markdown",
   "id": "e2e075da-c004-400d-b796-5435e096816d",
   "metadata": {},
   "source": [
    "# 2 Dictionaries\n",
    "We have not fully covered **dictionaries** in class, but a **dictionary** is a collection of key-value pairs. Each key is unique and is associated with a specific value. Like a real dictionary! \n",
    "\n",
    "You can create a dictionary by placing key-value pairs inside of curly brackets `{}` with a `:` separating the key from the value. \n",
    "\n",
    "Run the cell below for an example:"
   ]
  },
  {
   "cell_type": "code",
   "execution_count": 8,
   "id": "dbdb0f41-4f57-4524-ab51-ff1fc502bdfc",
   "metadata": {},
   "outputs": [
    {
     "name": "stdout",
     "output_type": "stream",
     "text": [
      "{'Mercury': 0.39, 'Venus': 0.72, 'Earth': 1.0, 'Mars': 1.52, 'Jupiter': 5.2, 'Saturn': 9.58, 'Uranus': 19.22, 'Neptune': 30.05}\n"
     ]
    }
   ],
   "source": [
    "# A dictionary that contains some data about the planets in our solar system\n",
    "planet_data = {\n",
    "    \"Mercury\": 0.39, \n",
    "    \"Venus\": 0.72,\n",
    "    \"Earth\": 1.00, # distance from the Sun in AU\n",
    "    \"Mars\": 1.52,\n",
    "    \"Jupiter\": 5.20,\n",
    "    \"Saturn\": 9.58,\n",
    "    \"Uranus\": 19.22,\n",
    "    \"Neptune\": 30.05\n",
    "}   \n",
    "\n",
    "print(planet_data) # print the dictonary"
   ]
  },
  {
   "cell_type": "markdown",
   "id": "886c93f4-0027-4969-ba67-cc12eca04c9c",
   "metadata": {},
   "source": [
    "## 2.1 Looping through a dictionary\n",
    "Write a function that takes in the `planet_data` dictionary and uses a `for` loop to print the names of each of the planets and its distance from the sun."
   ]
  },
  {
   "cell_type": "code",
   "execution_count": 11,
   "id": "a3ab065a-42f5-4aa0-8e0f-38e87c583464",
   "metadata": {
    "scrolled": true
   },
   "outputs": [
    {
     "name": "stdout",
     "output_type": "stream",
     "text": [
      "Mercury 0.39\n",
      "Venus 0.72\n",
      "Earth 1.0\n",
      "Mars 1.52\n",
      "Jupiter 5.2\n",
      "Saturn 9.58\n",
      "Uranus 19.22\n",
      "Neptune 30.05\n"
     ]
    }
   ],
   "source": [
    "def planet_distance(planet_data):\n",
    "    #takes in planet_data and prints the data\n",
    "    for item in planet_data:\n",
    "        print(item, planet_data[item])\n",
    "\n",
    "planet_distance(planet_data)"
   ]
  },
  {
   "cell_type": "markdown",
   "id": "2b38b6fb-ce68-4f20-a8a1-ba241e8db53e",
   "metadata": {},
   "source": [
    "## 2.2 Dictionaries and Conditionals\n",
    "Write a function that uses a while loop to print all the planets that are a minimum distance of 5 AU from the Sun. "
   ]
  },
  {
   "cell_type": "code",
   "execution_count": 20,
   "id": "6e07cf13-efba-4a75-ad75-0428dc31108d",
   "metadata": {},
   "outputs": [
    {
     "name": "stdout",
     "output_type": "stream",
     "text": [
      "<class 'dict_values'>\n"
     ]
    },
    {
     "ename": "TypeError",
     "evalue": "'>=' not supported between instances of 'dict_values' and 'int'",
     "output_type": "error",
     "traceback": [
      "\u001b[1;31m---------------------------------------------------------------------------\u001b[0m",
      "\u001b[1;31mTypeError\u001b[0m                                 Traceback (most recent call last)",
      "Cell \u001b[1;32mIn[20], line 8\u001b[0m\n\u001b[0;32m      5\u001b[0m         \u001b[38;5;28;01mif\u001b[39;00m planet_data\u001b[38;5;241m.\u001b[39mvalues() \u001b[38;5;241m>\u001b[39m\u001b[38;5;241m=\u001b[39m \u001b[38;5;241m5\u001b[39m:\n\u001b[0;32m      6\u001b[0m             \u001b[38;5;28mprint\u001b[39m(planet_data\u001b[38;5;241m.\u001b[39mkeys())\n\u001b[1;32m----> 8\u001b[0m far_planets(planet_data)\n",
      "Cell \u001b[1;32mIn[20], line 5\u001b[0m, in \u001b[0;36mfar_planets\u001b[1;34m(planet_data)\u001b[0m\n\u001b[0;32m      3\u001b[0m \u001b[38;5;28mprint\u001b[39m(\u001b[38;5;28mtype\u001b[39m(planet_data\u001b[38;5;241m.\u001b[39mvalues()))\n\u001b[0;32m      4\u001b[0m \u001b[38;5;28;01mwhile\u001b[39;00m a:\n\u001b[1;32m----> 5\u001b[0m     \u001b[38;5;28;01mif\u001b[39;00m planet_data\u001b[38;5;241m.\u001b[39mvalues() \u001b[38;5;241m>\u001b[39m\u001b[38;5;241m=\u001b[39m \u001b[38;5;241m5\u001b[39m:\n\u001b[0;32m      6\u001b[0m         \u001b[38;5;28mprint\u001b[39m(planet_data\u001b[38;5;241m.\u001b[39mkeys())\n",
      "\u001b[1;31mTypeError\u001b[0m: '>=' not supported between instances of 'dict_values' and 'int'"
     ]
    }
   ],
   "source": []
  },
  {
   "cell_type": "markdown",
   "id": "5e1ba0c0-5dd9-44e8-895c-73a36d614949",
   "metadata": {},
   "source": [
    "# 3 Observing Stars in a Cluster\n",
    "Your goal is to calculate the total brightness of a group of stars in a star cluster and estimate how long it would take for a telescope to observer each star, depending on their brightness (magnitude). Here is some background information:\n",
    "- The brightness of a star, from a telescope, is measured by its **apparent magnitude**, a LOWER magnitude means a brighter star. A HIGHER magnitude means a fainter star. So a 4th magnitude star is much brighter than a 17th magnitude star.\n",
    "- To convert magnitude into brightness, use the following formula\n",
    "$$\n",
    "\\text{Brightness} = 10^{-\\frac{\\text{magnitude}}{2.5}}\n",
    "$$\n",
    "\n",
    "Use this list of magnitudes and time limit:\n",
    "\n",
    "```\n",
    "magnitudes = [12.5, 13.2, 14.8, 19.1, 21.0, 18.5, 15.3, 10.5, 23.0]\n",
    "time_limit = 500\n",
    "```\n",
    "\n",
    "Expected outcome (your solutions with be the answers to the ???):\n",
    "- Total brightness of the stars: ???\n",
    "- Total observation time for all observable stars: ???\n",
    "- Number of stars that can be observed within 500 seconds: ???"
   ]
  },
  {
   "cell_type": "markdown",
   "id": "336785a7-71bf-434d-982c-dd72dd29cf71",
   "metadata": {},
   "source": [
    "## 3.1 Calculate Brightness\n",
    "1) Write a **function** which inputs a list of star magnitudes (brightnesses).\n",
    "2) Inside your function, use a `for` loop to calculate (with the given formula) the brightness of each star.\n",
    "3) Inside your function, use a `for` loop to sum up the total brightness of all the stars.\n",
    "5) Have your function return the **total brightness** of all the stars and a **list of the brightnesses** of the stars.\n",
    "6) Test out your function with the **given** magnitude values."
   ]
  },
  {
   "cell_type": "code",
   "execution_count": 26,
   "id": "ccc331f4-c029-4a82-810b-4a78d0fa1a2a",
   "metadata": {},
   "outputs": [
    {
     "data": {
      "text/plain": [
       "(8.037198248279666e-05,\n",
       " [1e-05,\n",
       "  5.248074602497734e-06,\n",
       "  1.2022644346174132e-06,\n",
       "  2.29086765276777e-08,\n",
       "  3.981071705534969e-09,\n",
       "  3.981071705534969e-08,\n",
       "  7.585775750291836e-07,\n",
       "  6.309573444801929e-05,\n",
       "  6.309573444801942e-10])"
      ]
     },
     "execution_count": 26,
     "metadata": {},
     "output_type": "execute_result"
    }
   ],
   "source": [
    "def brightness(stars):\n",
    "    #takes in a list of magnitudes of stars and returns individual and total brightness\n",
    "    total = 0\n",
    "    individual = []\n",
    "    for magnitude in stars:\n",
    "        individual.append(10 ** (-magnitude / 2.5))\n",
    "    for magnitude in stars:\n",
    "        total += 10 ** (-magnitude / 2.5)\n",
    "    return total, individual\n",
    "\n",
    "magnitudes = [12.5, 13.2, 14.8, 19.1, 21.0, 18.5, 15.3, 10.5, 23.0]\n",
    "brightness(magnitudes)"
   ]
  },
  {
   "cell_type": "markdown",
   "id": "9aff0e1c-9f88-4ebb-a05b-d39363d9e88e",
   "metadata": {},
   "source": [
    "## 3.2 Observation Time\n",
    "1) Write a **function** which inputs a list of star magnitudes (brightnesses).\n",
    "2) Inside your function, use a `for` loop to calculate the time to observe each star.\n",
    "- You can just assume each star's observation time is inversely proportional to its brightness with the following formula:\n",
    "\n",
    "$$\n",
    "\\text{Observation Time (in seconds)} \\propto \\frac{1}{\\text{Brightness}} \n",
    "$$\n",
    "\n",
    "3) Inside you function, write a `condition` that ignores stars that have a magnitude greater than 20 (very very faint stars).\n",
    "4) Have your function return the **total observation time** (ignoring >20 magnitudes) and a **list of the times** it would take to observe each individual star.\n",
    "5) Test out your function with the **given** magnitude values."
   ]
  },
  {
   "cell_type": "code",
   "execution_count": 40,
   "id": "044d17cf-82a8-44b6-8958-447632f713f6",
   "metadata": {},
   "outputs": [
    {
     "data": {
      "text/plain": [
       "(71226863.0524925,\n",
       " [99999.99999999999,\n",
       "  190546.07179632442,\n",
       "  831763.7711026708,\n",
       "  43651583.22401666,\n",
       "  25118864.315095823,\n",
       "  1318256.7385564074,\n",
       "  15848.931924611143])"
      ]
     },
     "execution_count": 40,
     "metadata": {},
     "output_type": "execute_result"
    }
   ],
   "source": [
    "def observation_times(stars):\n",
    "    #takes in a list of magnitudes of stars and returns individual and total observation times\n",
    "    total = 0\n",
    "    individual = []\n",
    "    for magnitude in stars:\n",
    "        if magnitude <= 20:\n",
    "            individual.append(1 / (10 ** (-magnitude / 2.5)))\n",
    "    for magnitude in stars:\n",
    "        if magnitude <= 20:\n",
    "            total += 1 / (10 ** (-magnitude / 2.5))\n",
    "    return total, individual\n",
    "\n",
    "magnitudes = [12.5, 13.2, 14.8, 19.1, 21.0, 18.5, 15.3, 10.5, 23.0]\n",
    "observation_times(magnitudes)"
   ]
  },
  {
   "cell_type": "markdown",
   "id": "102d3c15-0b4f-48a7-8fdc-f896c1841aca",
   "metadata": {},
   "source": [
    "## 3.3 Time Until the Limit\n",
    "1) Write a **function** which inputs a list of star magnitudes (brightnesses) and time limit.\n",
    "   - Make your time limit a default argument.\n",
    "2) Inside your function, make a counter called `total time` and set it to 0.\n",
    "3) Inside your function, use a `while` loop to set the time limit of your observation.\n",
    "4) Inside your function, use assigment operators to update the `total time` observed. \n",
    "5) Inside your function, use a `condition` to skip stars with magnitude 20 or greater. \n",
    "6) Have your function return the **number of stars that can be observed** within the time limit and **how long the observation will take** (this should be less than the time limit).\n",
    "7) Test out your function with the **given** magnitude values and time limit."
   ]
  },
  {
   "cell_type": "code",
   "execution_count": 42,
   "id": "5a541a62-0903-41bd-91c9-ee21172069a3",
   "metadata": {},
   "outputs": [
    {
     "ename": "SyntaxError",
     "evalue": "parameter without a default follows parameter with a default (680175612.py, line 1)",
     "output_type": "error",
     "traceback": [
      "\u001b[1;36m  Cell \u001b[1;32mIn[42], line 1\u001b[1;36m\u001b[0m\n\u001b[1;33m    def time_until_limit (time = 500, stars):\u001b[0m\n\u001b[1;37m                                      ^\u001b[0m\n\u001b[1;31mSyntaxError\u001b[0m\u001b[1;31m:\u001b[0m parameter without a default follows parameter with a default\n"
     ]
    }
   ],
   "source": [
    "def time_until_limit (time = 500, stars):\n",
    "    total_time = 0\n",
    "    while total_time <= time:\n",
    "        if magnitude <= 20:\n",
    "            \n",
    "    total_time +="
   ]
  },
  {
   "cell_type": "markdown",
   "id": "d2ab246f-9570-483e-b35b-cf1056f20936",
   "metadata": {},
   "source": [
    "## 3.4 Call Upon Your Functions\n",
    "You do not need to rewrite your functions once you have written them! That's what is so awesome about **functions**! \n",
    "\n",
    "1) With a new test case (different magnitudes and time limit) call your three functions you wrote above.\n",
    "2) Print out their return statements, example:\n",
    "\n",
    "```\n",
    ">>> my_return = my_function(my_argument):\n",
    ">>> print(my_return)\n",
    "```"
   ]
  },
  {
   "cell_type": "code",
   "execution_count": 46,
   "id": "4c4c9389-04f5-49bc-823c-a12d6c003b60",
   "metadata": {},
   "outputs": [
    {
     "name": "stdout",
     "output_type": "stream",
     "text": [
      "(0.0192675735160171, [1.584893192461114e-05, 1.584893192461114e-07, 1e-08, 3.63078054770101e-07, 7.585775750291836e-07, 3.3113112148259144e-08, 5.248074602497734e-06, 0.00019054607179632462, 0.019054607179632473])\n",
      "(140840518.45230952, [63095.7344480193, 6309573.44480193, 100000000.0, 2754228.703338169, 1318256.7385564074, 30199517.20402013, 190546.07179632442, 5248.074602497729, 52.48074602497726])\n"
     ]
    }
   ],
   "source": [
    "magnitudes = [12, 17, 20, 16.1, 15.3, 18.7, 13.2, 9.3, 4.3]\n",
    "bright = brightness(magnitudes)\n",
    "observation = observation_times(magnitudes)\n",
    "print(bright)\n",
    "print(observation)"
   ]
  },
  {
   "cell_type": "markdown",
   "id": "daba92d4-a646-4efc-824d-85b52ea3c573",
   "metadata": {},
   "source": [
    "# 4 Debug the Quadratic Function!\n",
    "The code below does not follow proper coding hygiene (good coding sklls) and is riddled with bugs! Answer the following question and follow the steps below:\n",
    "1) When you run the cell, what is the first error you get? What does this mean? What are three other things wrong with this function?\n",
    "2) Fix the bugs! No importing packages.\n",
    "3) Rewrite the code, such that it follows \"good coding skills\".\n",
    "\n",
    "Try out the test case of `a = 2`, `b = -5` and `c = 3`. You should get `(1.5, 1.0)`. Try out your own test case as well."
   ]
  },
  {
   "cell_type": "code",
   "execution_count": 64,
   "id": "cd66dd28-f8d3-447c-8d20-ff3e31bfaa07",
   "metadata": {},
   "outputs": [
    {
     "name": "stdout",
     "output_type": "stream",
     "text": [
      "(1.5, 1.0)\n"
     ]
    }
   ],
   "source": [
    "def quadratic_function(a = 2, b = -5, c = 3):\n",
    "    denominator = 2 * a\n",
    "    if denominator != 0:\n",
    "        positive_answer = (-b + (b**2 - 4 * a * c) ** (1/2)) / denominator \n",
    "        negative_answer = (-b - (b**2 - 4 * a * c) ** (1/2)) / denominator\n",
    "    return positive_answer, negative_answer\n",
    "print(quadratic_function(2, -5, 3))"
   ]
  },
  {
   "cell_type": "markdown",
   "id": "8cf33b19-9bca-484e-8129-d8a4896a1bfa",
   "metadata": {},
   "source": [
    "# 5 Proper Submission\n",
    "To recieve full credit for this assignment make sure you do the following:\n",
    "1) Copy this jupter notebook from the `ulab_2024` repository into **YOUR** local `homework` branch.\n",
    "   \n",
    "3) Follow the tasks. Make sure to run all the cells so that all output is visible.\n",
    "   \n",
    "5) Push this notebook to your remote `homework6` branch. Refer to the lecture slides for more information.\n",
    "      \n",
    "6) **WARNING!! IF YOU DO NOT FOLLOW THIS STEP YOU WILL RECIEVE A ZERO!**\n",
    "   1) Take a screenshot of your command line when you `push` this notebook from your local `homework6` branch to your remote `homework6` branch. Make sure to prove that you are inside a branch besides `main` or `master` by calling `git branch` and make sure to prove that your `homework6` branch only contains the homework4 folder of Jupyter Notebook you copied over from `ulab_2024` (which can be done by calling `ls`). You could also call `git status` before/after as a way to prove you pushed the proper files to the correct branches.\n",
    "   2)  Include that screenshot in your remote branch when you upload your GitHub branch to Gradescope!"
   ]
  },
  {
   "cell_type": "code",
   "execution_count": null,
   "id": "b0926042-d1cf-4a2e-8fc8-d93395a6a7cf",
   "metadata": {},
   "outputs": [],
   "source": []
  }
 ],
 "metadata": {
  "kernelspec": {
   "display_name": "Python 3 (ipykernel)",
   "language": "python",
   "name": "python3"
  },
  "language_info": {
   "codemirror_mode": {
    "name": "ipython",
    "version": 3
   },
   "file_extension": ".py",
   "mimetype": "text/x-python",
   "name": "python",
   "nbconvert_exporter": "python",
   "pygments_lexer": "ipython3",
   "version": "3.12.4"
  }
 },
 "nbformat": 4,
 "nbformat_minor": 5
}
