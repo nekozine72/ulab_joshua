{
 "cells": [
  {
   "cell_type": "code",
   "execution_count": 1,
   "id": "c72e2c67-5450-47c6-b1cf-b7269f9135b4",
   "metadata": {},
   "outputs": [],
   "source": [
    "import numpy as np\n",
    "\n",
    "def orbital_period(a):\n",
    "    \"\"\"Calculates the orbital period given a (semi-major axis).\"\"\"\n",
    "    return np.power(a, 3/2)"
   ]
  },
  {
   "cell_type": "code",
   "execution_count": null,
   "id": "dd4928d6-e7a4-4fbf-93bf-140680e67802",
   "metadata": {},
   "outputs": [],
   "source": []
  }
 ],
 "metadata": {
  "kernelspec": {
   "display_name": "Python 3 (ipykernel)",
   "language": "python",
   "name": "python3"
  },
  "language_info": {
   "codemirror_mode": {
    "name": "ipython",
    "version": 3
   },
   "file_extension": ".py",
   "mimetype": "text/x-python",
   "name": "python",
   "nbconvert_exporter": "python",
   "pygments_lexer": "ipython3",
   "version": "3.12.4"
  }
 },
 "nbformat": 4,
 "nbformat_minor": 5
}
