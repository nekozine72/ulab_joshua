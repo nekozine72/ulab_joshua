{
 "cells": [
  {
   "cell_type": "markdown",
   "id": "098671bb-ee88-4194-8470-d7ecafa6a897",
   "metadata": {},
   "source": [
    "# HW 15 - Animation\n",
    "ULAB - Physics and Astronomy Division \\\n",
    "Due **Sunday, March 9th, 2025 at 11:59pm** on Gradescope"
   ]
  },
  {
   "cell_type": "markdown",
   "id": "862147bf-0304-4c19-bc68-814b1c900f03",
   "metadata": {},
   "source": [
    "## 1 Modify the Animation from Lecture\n",
    "Modify the given sine wave animation so that the wave moves twice as fast. What parts of the code you you need to change, and why? Please specifically highlight this in your code"
   ]
  },
  {
   "cell_type": "code",
   "execution_count": 3,
   "id": "aa1f7ef0-ac3b-4eb6-8a67-a2b46b8cc0bc",
   "metadata": {},
   "outputs": [
    {
     "data": {
      "image/png": "[encoded data removed]",
      "text/plain": [
       "<Figure size 640x480 with 1 Axes>"
      ]
     },
     "metadata": {},
     "output_type": "display_data"
    }
   ],
   "source": [
    "import numpy as np\n",
    "import matplotlib.pyplot as plt\n",
    "import matplotlib.animation as animation\n",
    "\n",
    "x = np.linspace(0, 2*np.pi, 100)\n",
    "y = np.sin(x)\n",
    "\n",
    "fig, ax = plt.subplots()\n",
    "line, = ax.plot(x, np.sin(x))\n",
    "\n",
    "def update(frame):\n",
    "    \"\"\"\n",
    "    Updates the sine wave to shift horizontally.\n",
    "    frame(int) = current frame number, increases with time\n",
    "    line, (tuple) = the updated line object that is being redrawn\n",
    "    \"\"\"\n",
    "    line.set_ydata(np.sin(x + frame / 5.0))\n",
    "    return line, \n",
    "\n",
    "ani = animation.FuncAnimation(fig, update, frames=100, interval=50, blit=True)\n",
    "plt.show()"
   ]
  },
  {
   "cell_type": "code",
   "execution_count": 4,
   "id": "216b63f3-fa50-4c9c-80c5-841ffbbd9a41",
   "metadata": {},
   "outputs": [],
   "source": [
    "# Instead of dividing by 10, I changed it to divide by 5. Since the frame is divided by a smaller number, the graph will move further each \"flip\" of the animation."
   ]
  },
  {
   "cell_type": "markdown",
   "id": "041de2e7-88e5-4369-b6f9-7d3645688fc4",
   "metadata": {},
   "source": [
    "Save the animation as a .mp4 or a .gif and include it you repository for submission. "
   ]
  },
  {
   "cell_type": "code",
   "execution_count": 6,
   "id": "03c0ccd8-8f42-4a6a-b67a-5db9b4b1389b",
   "metadata": {},
   "outputs": [],
   "source": [
    "ani.save(\"animation.gif\", writer=\"pillow\", fps=20)"
   ]
  },
  {
   "cell_type": "markdown",
   "id": "2132a232-34a8-44d7-9be4-f3d12901bb6d",
   "metadata": {},
   "source": [
    "Explain what happens if you set `blit=True` in `FuncAnimation`? What happens if you set it to `blit=False`?"
   ]
  },
  {
   "cell_type": "code",
   "execution_count": 8,
   "id": "38ad6031-9a11-4c6c-b303-2ec4d865495c",
   "metadata": {},
   "outputs": [],
   "source": [
    "# Blit makes it so that your animation processes faster by only updating parts of the animation that change from frame to frame. If this is set to false, every single frame would be redrawn each time."
   ]
  },
  {
   "cell_type": "markdown",
   "id": "893d72d1-bf1f-46e9-8db4-f10223092b81",
   "metadata": {},
   "source": [
    "## 2 A Different Animation\n",
    "Write an animation where a dot moves in a circular path instead of sine wave. *Hint: You will need to use `np.sin` and `np.cos`. "
   ]
  },
  {
   "cell_type": "code",
   "execution_count": 10,
   "id": "afd93716-bcad-457e-bf61-96dc7464526c",
   "metadata": {},
   "outputs": [
    {
     "ename": "NameError",
     "evalue": "name 'radius' is not defined",
     "output_type": "error",
     "traceback": [
      "\u001b[1;31m---------------------------------------------------------------------------\u001b[0m",
      "\u001b[1;31mNameError\u001b[0m                                 Traceback (most recent call last)",
      "Cell \u001b[1;32mIn[10], line 18\u001b[0m\n\u001b[0;32m     15\u001b[0m     point\u001b[38;5;241m.\u001b[39mset_data(np\u001b[38;5;241m.\u001b[39mcos(theta), radius \u001b[38;5;241m*\u001b[39m np\u001b[38;5;241m.\u001b[39msin(theta))\n\u001b[0;32m     16\u001b[0m     \u001b[38;5;28;01mreturn\u001b[39;00m point, \n\u001b[1;32m---> 18\u001b[0m ani \u001b[38;5;241m=\u001b[39m animation\u001b[38;5;241m.\u001b[39mFuncAnimation(fig, update, frames\u001b[38;5;241m=\u001b[39m\u001b[38;5;241m100\u001b[39m, interval\u001b[38;5;241m=\u001b[39m\u001b[38;5;241m50\u001b[39m, blit\u001b[38;5;241m=\u001b[39m\u001b[38;5;28;01mTrue\u001b[39;00m)\n\u001b[0;32m     19\u001b[0m plt\u001b[38;5;241m.\u001b[39mshow()\n",
      "File \u001b[1;32m~\\anaconda3\\Lib\\site-packages\\matplotlib\\animation.py:1695\u001b[0m, in \u001b[0;36mFuncAnimation.__init__\u001b[1;34m(self, fig, func, frames, init_func, fargs, save_count, cache_frame_data, **kwargs)\u001b[0m\n\u001b[0;32m   1692\u001b[0m \u001b[38;5;66;03m# Needs to be initialized so the draw functions work without checking\u001b[39;00m\n\u001b[0;32m   1693\u001b[0m \u001b[38;5;28mself\u001b[39m\u001b[38;5;241m.\u001b[39m_save_seq \u001b[38;5;241m=\u001b[39m []\n\u001b[1;32m-> 1695\u001b[0m \u001b[38;5;28msuper\u001b[39m()\u001b[38;5;241m.\u001b[39m\u001b[38;5;21m__init__\u001b[39m(fig, \u001b[38;5;241m*\u001b[39m\u001b[38;5;241m*\u001b[39mkwargs)\n\u001b[0;32m   1697\u001b[0m \u001b[38;5;66;03m# Need to reset the saved seq, since right now it will contain data\u001b[39;00m\n\u001b[0;32m   1698\u001b[0m \u001b[38;5;66;03m# for a single frame from init, which is not what we want.\u001b[39;00m\n\u001b[0;32m   1699\u001b[0m \u001b[38;5;28mself\u001b[39m\u001b[38;5;241m.\u001b[39m_save_seq \u001b[38;5;241m=\u001b[39m []\n",
      "File \u001b[1;32m~\\anaconda3\\Lib\\site-packages\\matplotlib\\animation.py:1417\u001b[0m, in \u001b[0;36mTimedAnimation.__init__\u001b[1;34m(self, fig, interval, repeat_delay, repeat, event_source, *args, **kwargs)\u001b[0m\n\u001b[0;32m   1415\u001b[0m \u001b[38;5;28;01mif\u001b[39;00m event_source \u001b[38;5;129;01mis\u001b[39;00m \u001b[38;5;28;01mNone\u001b[39;00m:\n\u001b[0;32m   1416\u001b[0m     event_source \u001b[38;5;241m=\u001b[39m fig\u001b[38;5;241m.\u001b[39mcanvas\u001b[38;5;241m.\u001b[39mnew_timer(interval\u001b[38;5;241m=\u001b[39m\u001b[38;5;28mself\u001b[39m\u001b[38;5;241m.\u001b[39m_interval)\n\u001b[1;32m-> 1417\u001b[0m \u001b[38;5;28msuper\u001b[39m()\u001b[38;5;241m.\u001b[39m\u001b[38;5;21m__init__\u001b[39m(fig, event_source\u001b[38;5;241m=\u001b[39mevent_source, \u001b[38;5;241m*\u001b[39margs, \u001b[38;5;241m*\u001b[39m\u001b[38;5;241m*\u001b[39mkwargs)\n",
      "File \u001b[1;32m~\\anaconda3\\Lib\\site-packages\\matplotlib\\animation.py:888\u001b[0m, in \u001b[0;36mAnimation.__init__\u001b[1;34m(self, fig, event_source, blit)\u001b[0m\n\u001b[0;32m    885\u001b[0m \u001b[38;5;28mself\u001b[39m\u001b[38;5;241m.\u001b[39m_close_id \u001b[38;5;241m=\u001b[39m \u001b[38;5;28mself\u001b[39m\u001b[38;5;241m.\u001b[39m_fig\u001b[38;5;241m.\u001b[39mcanvas\u001b[38;5;241m.\u001b[39mmpl_connect(\u001b[38;5;124m'\u001b[39m\u001b[38;5;124mclose_event\u001b[39m\u001b[38;5;124m'\u001b[39m,\n\u001b[0;32m    886\u001b[0m                                               \u001b[38;5;28mself\u001b[39m\u001b[38;5;241m.\u001b[39m_stop)\n\u001b[0;32m    887\u001b[0m \u001b[38;5;28;01mif\u001b[39;00m \u001b[38;5;28mself\u001b[39m\u001b[38;5;241m.\u001b[39m_blit:\n\u001b[1;32m--> 888\u001b[0m     \u001b[38;5;28mself\u001b[39m\u001b[38;5;241m.\u001b[39m_setup_blit()\n",
      "File \u001b[1;32m~\\anaconda3\\Lib\\site-packages\\matplotlib\\animation.py:1211\u001b[0m, in \u001b[0;36mAnimation._setup_blit\u001b[1;34m(self)\u001b[0m\n\u001b[0;32m   1209\u001b[0m \u001b[38;5;28mself\u001b[39m\u001b[38;5;241m.\u001b[39m_drawn_artists \u001b[38;5;241m=\u001b[39m []\n\u001b[0;32m   1210\u001b[0m \u001b[38;5;66;03m# _post_draw needs to be called first to initialize the renderer\u001b[39;00m\n\u001b[1;32m-> 1211\u001b[0m \u001b[38;5;28mself\u001b[39m\u001b[38;5;241m.\u001b[39m_post_draw(\u001b[38;5;28;01mNone\u001b[39;00m, \u001b[38;5;28mself\u001b[39m\u001b[38;5;241m.\u001b[39m_blit)\n\u001b[0;32m   1212\u001b[0m \u001b[38;5;66;03m# Then we need to clear the Frame for the initial draw\u001b[39;00m\n\u001b[0;32m   1213\u001b[0m \u001b[38;5;66;03m# This is typically handled in _on_resize because QT and Tk\u001b[39;00m\n\u001b[0;32m   1214\u001b[0m \u001b[38;5;66;03m# emit a resize event on launch, but the macosx backend does not,\u001b[39;00m\n\u001b[0;32m   1215\u001b[0m \u001b[38;5;66;03m# thus we force it here for everyone for consistency\u001b[39;00m\n\u001b[0;32m   1216\u001b[0m \u001b[38;5;28mself\u001b[39m\u001b[38;5;241m.\u001b[39m_init_draw()\n",
      "File \u001b[1;32m~\\anaconda3\\Lib\\site-packages\\matplotlib\\animation.py:1166\u001b[0m, in \u001b[0;36mAnimation._post_draw\u001b[1;34m(self, framedata, blit)\u001b[0m\n\u001b[0;32m   1164\u001b[0m     \u001b[38;5;28mself\u001b[39m\u001b[38;5;241m.\u001b[39m_blit_draw(\u001b[38;5;28mself\u001b[39m\u001b[38;5;241m.\u001b[39m_drawn_artists)\n\u001b[0;32m   1165\u001b[0m \u001b[38;5;28;01melse\u001b[39;00m:\n\u001b[1;32m-> 1166\u001b[0m     \u001b[38;5;28mself\u001b[39m\u001b[38;5;241m.\u001b[39m_fig\u001b[38;5;241m.\u001b[39mcanvas\u001b[38;5;241m.\u001b[39mdraw_idle()\n",
      "File \u001b[1;32m~\\anaconda3\\Lib\\site-packages\\matplotlib\\backend_bases.py:1893\u001b[0m, in \u001b[0;36mFigureCanvasBase.draw_idle\u001b[1;34m(self, *args, **kwargs)\u001b[0m\n\u001b[0;32m   1891\u001b[0m \u001b[38;5;28;01mif\u001b[39;00m \u001b[38;5;129;01mnot\u001b[39;00m \u001b[38;5;28mself\u001b[39m\u001b[38;5;241m.\u001b[39m_is_idle_drawing:\n\u001b[0;32m   1892\u001b[0m     \u001b[38;5;28;01mwith\u001b[39;00m \u001b[38;5;28mself\u001b[39m\u001b[38;5;241m.\u001b[39m_idle_draw_cntx():\n\u001b[1;32m-> 1893\u001b[0m         \u001b[38;5;28mself\u001b[39m\u001b[38;5;241m.\u001b[39mdraw(\u001b[38;5;241m*\u001b[39margs, \u001b[38;5;241m*\u001b[39m\u001b[38;5;241m*\u001b[39mkwargs)\n",
      "File \u001b[1;32m~\\anaconda3\\Lib\\site-packages\\matplotlib\\backends\\backend_agg.py:388\u001b[0m, in \u001b[0;36mFigureCanvasAgg.draw\u001b[1;34m(self)\u001b[0m\n\u001b[0;32m    385\u001b[0m \u001b[38;5;66;03m# Acquire a lock on the shared font cache.\u001b[39;00m\n\u001b[0;32m    386\u001b[0m \u001b[38;5;28;01mwith\u001b[39;00m (\u001b[38;5;28mself\u001b[39m\u001b[38;5;241m.\u001b[39mtoolbar\u001b[38;5;241m.\u001b[39m_wait_cursor_for_draw_cm() \u001b[38;5;28;01mif\u001b[39;00m \u001b[38;5;28mself\u001b[39m\u001b[38;5;241m.\u001b[39mtoolbar\n\u001b[0;32m    387\u001b[0m       \u001b[38;5;28;01melse\u001b[39;00m nullcontext()):\n\u001b[1;32m--> 388\u001b[0m     \u001b[38;5;28mself\u001b[39m\u001b[38;5;241m.\u001b[39mfigure\u001b[38;5;241m.\u001b[39mdraw(\u001b[38;5;28mself\u001b[39m\u001b[38;5;241m.\u001b[39mrenderer)\n\u001b[0;32m    389\u001b[0m     \u001b[38;5;66;03m# A GUI class may be need to update a window using this draw, so\u001b[39;00m\n\u001b[0;32m    390\u001b[0m     \u001b[38;5;66;03m# don't forget to call the superclass.\u001b[39;00m\n\u001b[0;32m    391\u001b[0m     \u001b[38;5;28msuper\u001b[39m()\u001b[38;5;241m.\u001b[39mdraw()\n",
      "File \u001b[1;32m~\\anaconda3\\Lib\\site-packages\\matplotlib\\artist.py:95\u001b[0m, in \u001b[0;36m_finalize_rasterization.<locals>.draw_wrapper\u001b[1;34m(artist, renderer, *args, **kwargs)\u001b[0m\n\u001b[0;32m     93\u001b[0m \u001b[38;5;129m@wraps\u001b[39m(draw)\n\u001b[0;32m     94\u001b[0m \u001b[38;5;28;01mdef\u001b[39;00m \u001b[38;5;21mdraw_wrapper\u001b[39m(artist, renderer, \u001b[38;5;241m*\u001b[39margs, \u001b[38;5;241m*\u001b[39m\u001b[38;5;241m*\u001b[39mkwargs):\n\u001b[1;32m---> 95\u001b[0m     result \u001b[38;5;241m=\u001b[39m draw(artist, renderer, \u001b[38;5;241m*\u001b[39margs, \u001b[38;5;241m*\u001b[39m\u001b[38;5;241m*\u001b[39mkwargs)\n\u001b[0;32m     96\u001b[0m     \u001b[38;5;28;01mif\u001b[39;00m renderer\u001b[38;5;241m.\u001b[39m_rasterizing:\n\u001b[0;32m     97\u001b[0m         renderer\u001b[38;5;241m.\u001b[39mstop_rasterizing()\n",
      "File \u001b[1;32m~\\anaconda3\\Lib\\site-packages\\matplotlib\\artist.py:72\u001b[0m, in \u001b[0;36mallow_rasterization.<locals>.draw_wrapper\u001b[1;34m(artist, renderer)\u001b[0m\n\u001b[0;32m     69\u001b[0m     \u001b[38;5;28;01mif\u001b[39;00m artist\u001b[38;5;241m.\u001b[39mget_agg_filter() \u001b[38;5;129;01mis\u001b[39;00m \u001b[38;5;129;01mnot\u001b[39;00m \u001b[38;5;28;01mNone\u001b[39;00m:\n\u001b[0;32m     70\u001b[0m         renderer\u001b[38;5;241m.\u001b[39mstart_filter()\n\u001b[1;32m---> 72\u001b[0m     \u001b[38;5;28;01mreturn\u001b[39;00m draw(artist, renderer)\n\u001b[0;32m     73\u001b[0m \u001b[38;5;28;01mfinally\u001b[39;00m:\n\u001b[0;32m     74\u001b[0m     \u001b[38;5;28;01mif\u001b[39;00m artist\u001b[38;5;241m.\u001b[39mget_agg_filter() \u001b[38;5;129;01mis\u001b[39;00m \u001b[38;5;129;01mnot\u001b[39;00m \u001b[38;5;28;01mNone\u001b[39;00m:\n",
      "File \u001b[1;32m~\\anaconda3\\Lib\\site-packages\\matplotlib\\figure.py:3164\u001b[0m, in \u001b[0;36mFigure.draw\u001b[1;34m(self, renderer)\u001b[0m\n\u001b[0;32m   3161\u001b[0m \u001b[38;5;28;01mfinally\u001b[39;00m:\n\u001b[0;32m   3162\u001b[0m     \u001b[38;5;28mself\u001b[39m\u001b[38;5;241m.\u001b[39mstale \u001b[38;5;241m=\u001b[39m \u001b[38;5;28;01mFalse\u001b[39;00m\n\u001b[1;32m-> 3164\u001b[0m DrawEvent(\u001b[38;5;124m\"\u001b[39m\u001b[38;5;124mdraw_event\u001b[39m\u001b[38;5;124m\"\u001b[39m, \u001b[38;5;28mself\u001b[39m\u001b[38;5;241m.\u001b[39mcanvas, renderer)\u001b[38;5;241m.\u001b[39m_process()\n",
      "File \u001b[1;32m~\\anaconda3\\Lib\\site-packages\\matplotlib\\backend_bases.py:1271\u001b[0m, in \u001b[0;36mEvent._process\u001b[1;34m(self)\u001b[0m\n\u001b[0;32m   1269\u001b[0m \u001b[38;5;28;01mdef\u001b[39;00m \u001b[38;5;21m_process\u001b[39m(\u001b[38;5;28mself\u001b[39m):\n\u001b[0;32m   1270\u001b[0m \u001b[38;5;250m    \u001b[39m\u001b[38;5;124;03m\"\"\"Process this event on ``self.canvas``, then unset ``guiEvent``.\"\"\"\u001b[39;00m\n\u001b[1;32m-> 1271\u001b[0m     \u001b[38;5;28mself\u001b[39m\u001b[38;5;241m.\u001b[39mcanvas\u001b[38;5;241m.\u001b[39mcallbacks\u001b[38;5;241m.\u001b[39mprocess(\u001b[38;5;28mself\u001b[39m\u001b[38;5;241m.\u001b[39mname, \u001b[38;5;28mself\u001b[39m)\n\u001b[0;32m   1272\u001b[0m     \u001b[38;5;28mself\u001b[39m\u001b[38;5;241m.\u001b[39m_guiEvent_deleted \u001b[38;5;241m=\u001b[39m \u001b[38;5;28;01mTrue\u001b[39;00m\n",
      "File \u001b[1;32m~\\anaconda3\\Lib\\site-packages\\matplotlib\\cbook.py:303\u001b[0m, in \u001b[0;36mCallbackRegistry.process\u001b[1;34m(self, s, *args, **kwargs)\u001b[0m\n\u001b[0;32m    301\u001b[0m \u001b[38;5;28;01mexcept\u001b[39;00m \u001b[38;5;167;01mException\u001b[39;00m \u001b[38;5;28;01mas\u001b[39;00m exc:\n\u001b[0;32m    302\u001b[0m     \u001b[38;5;28;01mif\u001b[39;00m \u001b[38;5;28mself\u001b[39m\u001b[38;5;241m.\u001b[39mexception_handler \u001b[38;5;129;01mis\u001b[39;00m \u001b[38;5;129;01mnot\u001b[39;00m \u001b[38;5;28;01mNone\u001b[39;00m:\n\u001b[1;32m--> 303\u001b[0m         \u001b[38;5;28mself\u001b[39m\u001b[38;5;241m.\u001b[39mexception_handler(exc)\n\u001b[0;32m    304\u001b[0m     \u001b[38;5;28;01melse\u001b[39;00m:\n\u001b[0;32m    305\u001b[0m         \u001b[38;5;28;01mraise\u001b[39;00m\n",
      "File \u001b[1;32m~\\anaconda3\\Lib\\site-packages\\matplotlib\\cbook.py:87\u001b[0m, in \u001b[0;36m_exception_printer\u001b[1;34m(exc)\u001b[0m\n\u001b[0;32m     85\u001b[0m \u001b[38;5;28;01mdef\u001b[39;00m \u001b[38;5;21m_exception_printer\u001b[39m(exc):\n\u001b[0;32m     86\u001b[0m     \u001b[38;5;28;01mif\u001b[39;00m _get_running_interactive_framework() \u001b[38;5;129;01min\u001b[39;00m [\u001b[38;5;124m\"\u001b[39m\u001b[38;5;124mheadless\u001b[39m\u001b[38;5;124m\"\u001b[39m, \u001b[38;5;28;01mNone\u001b[39;00m]:\n\u001b[1;32m---> 87\u001b[0m         \u001b[38;5;28;01mraise\u001b[39;00m exc\n\u001b[0;32m     88\u001b[0m     \u001b[38;5;28;01melse\u001b[39;00m:\n\u001b[0;32m     89\u001b[0m         traceback\u001b[38;5;241m.\u001b[39mprint_exc()\n",
      "File \u001b[1;32m~\\anaconda3\\Lib\\site-packages\\matplotlib\\cbook.py:298\u001b[0m, in \u001b[0;36mCallbackRegistry.process\u001b[1;34m(self, s, *args, **kwargs)\u001b[0m\n\u001b[0;32m    296\u001b[0m \u001b[38;5;28;01mif\u001b[39;00m func \u001b[38;5;129;01mis\u001b[39;00m \u001b[38;5;129;01mnot\u001b[39;00m \u001b[38;5;28;01mNone\u001b[39;00m:\n\u001b[0;32m    297\u001b[0m     \u001b[38;5;28;01mtry\u001b[39;00m:\n\u001b[1;32m--> 298\u001b[0m         func(\u001b[38;5;241m*\u001b[39margs, \u001b[38;5;241m*\u001b[39m\u001b[38;5;241m*\u001b[39mkwargs)\n\u001b[0;32m    299\u001b[0m     \u001b[38;5;66;03m# this does not capture KeyboardInterrupt, SystemExit,\u001b[39;00m\n\u001b[0;32m    300\u001b[0m     \u001b[38;5;66;03m# and GeneratorExit\u001b[39;00m\n\u001b[0;32m    301\u001b[0m     \u001b[38;5;28;01mexcept\u001b[39;00m \u001b[38;5;167;01mException\u001b[39;00m \u001b[38;5;28;01mas\u001b[39;00m exc:\n",
      "File \u001b[1;32m~\\anaconda3\\Lib\\site-packages\\matplotlib\\animation.py:912\u001b[0m, in \u001b[0;36mAnimation._start\u001b[1;34m(self, *args)\u001b[0m\n\u001b[0;32m    909\u001b[0m \u001b[38;5;28mself\u001b[39m\u001b[38;5;241m.\u001b[39m_fig\u001b[38;5;241m.\u001b[39mcanvas\u001b[38;5;241m.\u001b[39mmpl_disconnect(\u001b[38;5;28mself\u001b[39m\u001b[38;5;241m.\u001b[39m_first_draw_id)\n\u001b[0;32m    911\u001b[0m \u001b[38;5;66;03m# Now do any initial draw\u001b[39;00m\n\u001b[1;32m--> 912\u001b[0m \u001b[38;5;28mself\u001b[39m\u001b[38;5;241m.\u001b[39m_init_draw()\n\u001b[0;32m    914\u001b[0m \u001b[38;5;66;03m# Add our callback for stepping the animation and\u001b[39;00m\n\u001b[0;32m    915\u001b[0m \u001b[38;5;66;03m# actually start the event_source.\u001b[39;00m\n\u001b[0;32m    916\u001b[0m \u001b[38;5;28mself\u001b[39m\u001b[38;5;241m.\u001b[39mevent_source\u001b[38;5;241m.\u001b[39madd_callback(\u001b[38;5;28mself\u001b[39m\u001b[38;5;241m.\u001b[39m_step)\n",
      "File \u001b[1;32m~\\anaconda3\\Lib\\site-packages\\matplotlib\\animation.py:1749\u001b[0m, in \u001b[0;36mFuncAnimation._init_draw\u001b[1;34m(self)\u001b[0m\n\u001b[0;32m   1741\u001b[0m         warnings\u001b[38;5;241m.\u001b[39mwarn(\n\u001b[0;32m   1742\u001b[0m             \u001b[38;5;124m\"\u001b[39m\u001b[38;5;124mCan not start iterating the frames for the initial draw. \u001b[39m\u001b[38;5;124m\"\u001b[39m\n\u001b[0;32m   1743\u001b[0m             \u001b[38;5;124m\"\u001b[39m\u001b[38;5;124mThis can be caused by passing in a 0 length sequence \u001b[39m\u001b[38;5;124m\"\u001b[39m\n\u001b[1;32m   (...)\u001b[0m\n\u001b[0;32m   1746\u001b[0m             \u001b[38;5;124m\"\u001b[39m\u001b[38;5;124mit may be exhausted due to a previous display or save.\u001b[39m\u001b[38;5;124m\"\u001b[39m\n\u001b[0;32m   1747\u001b[0m         )\n\u001b[0;32m   1748\u001b[0m         \u001b[38;5;28;01mreturn\u001b[39;00m\n\u001b[1;32m-> 1749\u001b[0m     \u001b[38;5;28mself\u001b[39m\u001b[38;5;241m.\u001b[39m_draw_frame(frame_data)\n\u001b[0;32m   1750\u001b[0m \u001b[38;5;28;01melse\u001b[39;00m:\n\u001b[0;32m   1751\u001b[0m     \u001b[38;5;28mself\u001b[39m\u001b[38;5;241m.\u001b[39m_drawn_artists \u001b[38;5;241m=\u001b[39m \u001b[38;5;28mself\u001b[39m\u001b[38;5;241m.\u001b[39m_init_func()\n",
      "File \u001b[1;32m~\\anaconda3\\Lib\\site-packages\\matplotlib\\animation.py:1768\u001b[0m, in \u001b[0;36mFuncAnimation._draw_frame\u001b[1;34m(self, framedata)\u001b[0m\n\u001b[0;32m   1764\u001b[0m     \u001b[38;5;28mself\u001b[39m\u001b[38;5;241m.\u001b[39m_save_seq \u001b[38;5;241m=\u001b[39m \u001b[38;5;28mself\u001b[39m\u001b[38;5;241m.\u001b[39m_save_seq[\u001b[38;5;241m-\u001b[39m\u001b[38;5;28mself\u001b[39m\u001b[38;5;241m.\u001b[39m_save_count:]\n\u001b[0;32m   1766\u001b[0m \u001b[38;5;66;03m# Call the func with framedata and args. If blitting is desired,\u001b[39;00m\n\u001b[0;32m   1767\u001b[0m \u001b[38;5;66;03m# func needs to return a sequence of any artists that were modified.\u001b[39;00m\n\u001b[1;32m-> 1768\u001b[0m \u001b[38;5;28mself\u001b[39m\u001b[38;5;241m.\u001b[39m_drawn_artists \u001b[38;5;241m=\u001b[39m \u001b[38;5;28mself\u001b[39m\u001b[38;5;241m.\u001b[39m_func(framedata, \u001b[38;5;241m*\u001b[39m\u001b[38;5;28mself\u001b[39m\u001b[38;5;241m.\u001b[39m_args)\n\u001b[0;32m   1770\u001b[0m \u001b[38;5;28;01mif\u001b[39;00m \u001b[38;5;28mself\u001b[39m\u001b[38;5;241m.\u001b[39m_blit:\n\u001b[0;32m   1772\u001b[0m     err \u001b[38;5;241m=\u001b[39m \u001b[38;5;167;01mRuntimeError\u001b[39;00m(\u001b[38;5;124m'\u001b[39m\u001b[38;5;124mThe animation function must return a sequence \u001b[39m\u001b[38;5;124m'\u001b[39m\n\u001b[0;32m   1773\u001b[0m                        \u001b[38;5;124m'\u001b[39m\u001b[38;5;124mof Artist objects.\u001b[39m\u001b[38;5;124m'\u001b[39m)\n",
      "Cell \u001b[1;32mIn[10], line 15\u001b[0m, in \u001b[0;36mupdate\u001b[1;34m(frame)\u001b[0m\n\u001b[0;32m      9\u001b[0m \u001b[38;5;250m\u001b[39m\u001b[38;5;124;03m\"\"\"\u001b[39;00m\n\u001b[0;32m     10\u001b[0m \u001b[38;5;124;03mUpdates the sine wave to shift horizontally.\u001b[39;00m\n\u001b[0;32m     11\u001b[0m \u001b[38;5;124;03mframe(int) = current frame number, increases with time\u001b[39;00m\n\u001b[0;32m     12\u001b[0m \u001b[38;5;124;03mline, (tuple) = the updated line object that is being redrawn\u001b[39;00m\n\u001b[0;32m     13\u001b[0m \u001b[38;5;124;03m\"\"\"\u001b[39;00m\n\u001b[0;32m     14\u001b[0m angle \u001b[38;5;241m=\u001b[39m \u001b[38;5;241m2\u001b[39m \u001b[38;5;241m*\u001b[39m np\u001b[38;5;241m.\u001b[39mpi \u001b[38;5;241m*\u001b[39m (frame \u001b[38;5;241m/\u001b[39m \u001b[38;5;241m10.0\u001b[39m)\n\u001b[1;32m---> 15\u001b[0m point\u001b[38;5;241m.\u001b[39mset_data(np\u001b[38;5;241m.\u001b[39mcos(theta), radius \u001b[38;5;241m*\u001b[39m np\u001b[38;5;241m.\u001b[39msin(theta))\n\u001b[0;32m     16\u001b[0m \u001b[38;5;28;01mreturn\u001b[39;00m point,\n",
      "\u001b[1;31mNameError\u001b[0m: name 'radius' is not defined"
     ]
    },
    {
     "data": {
      "image/png": "[encoded data removed]",
      "text/plain": [
       "<Figure size 640x480 with 1 Axes>"
      ]
     },
     "metadata": {},
     "output_type": "display_data"
    }
   ],
   "source": [
    "theta = np.linspace(0, 2*np.pi, 100)\n",
    "x = np.cos(theta)\n",
    "y = np.sin(theta)\n",
    "\n",
    "fig, ax = plt.subplots()\n",
    "point, = ax.plot(x, y)\n",
    "\n",
    "def update(frame):\n",
    "    \"\"\"\n",
    "    Updates the sine wave to shift horizontally.\n",
    "    frame(int) = current frame number, increases with time\n",
    "    line, (tuple) = the updated line object that is being redrawn\n",
    "    \"\"\"\n",
    "    angle = 2 * np.pi * (frame / 10.0)\n",
    "    point.set_data(np.cos(theta), radius * np.sin(theta))\n",
    "    return point, \n",
    "\n",
    "ani = animation.FuncAnimation(fig, update, frames=100, interval=50, blit=True)\n",
    "plt.show()"
   ]
  },
  {
   "cell_type": "markdown",
   "id": "37133adf-df2a-4d61-b8d1-def439723d86",
   "metadata": {},
   "source": [
    "Save the animation as a .mp4 or a .gif and include it you repository for submission. "
   ]
  },
  {
   "cell_type": "code",
   "execution_count": null,
   "id": "c5bb376d-8b40-4bbc-b01c-fdae2c468015",
   "metadata": {},
   "outputs": [],
   "source": [
    "ani.save(\"animation2.gif\", writer=\"pillow\", fps=20)"
   ]
  },
  {
   "cell_type": "markdown",
   "id": "d7e7dabb-d6e2-4406-8502-a0509df0b4f0",
   "metadata": {},
   "source": [
    "## 3 Simulate Orbital Motion of Planets and a Comet\n",
    "**Check out the `example_solar_system_animation.mp4` as an example of what you will be creating in this problem.**\n",
    "\n",
    "Now you will simulate and visualize the orbital motion of Earth, Mars and a coment around the Sun using Newtonian gravity and Python. Here are the steps:\n",
    "* Calculate the gravitational forces acting on each body.\n",
    "* Update positions and velocities over time.\n",
    "* Simulate the motion of these celestial bodies over a period of 5 years.\n",
    "* Animate the results to observe orbital patterns. \n",
    "\n",
    "Let's dig a bit into the physics. The motion of celestial bodies follows **Newton's laws of motion and gravitation**:\n",
    "$$\n",
    "F = G \\frac{m_1 m_1}{r^2}\n",
    "$$\n",
    "\n",
    "where:\n",
    "* $F$ is the gravitational force.\n",
    "* $G = 6.67\\times10^{-11}$ is the gravitational constant\n",
    "* $m_1$, $m_2$ are the measses of the two objects.\n",
    "* $r$ is the distance between them.\n",
    "\n",
    "Using **Newton's Second Law**, the acceleration is given by:\n",
    "\n",
    "$$\n",
    "a = \\frac{F}{m}\n",
    "$$\n",
    "\n",
    "where $a$ is the acceleration, and $m$ is the object's mass. The velocity and position are updated with numerical integration:\n",
    "\n",
    "$$\n",
    "v = v + a \\cdot dt\n",
    "$$\n",
    "\n",
    "$$\n",
    "x = x + v \\cdot dt\n",
    "$$\n",
    "\n",
    "## 3.1 Implementing the Simulation\n",
    "Goal: Set up the **masses**, **initial positions** and **velocities** for the Sun, Earth, Mars and a comet. \n",
    "* Use SI units (meters, kilograms, seconds).\n",
    "* The Sun is at the origin (0, 0, 0)\n",
    "* Earth, Mars and the commet start at **aphelion** (farthest from the Sun).\n",
    "\n",
    "Start by defining the following initial variables in kilograms (or SI units):\n",
    "* `G`\n",
    "* `Ms` (the mass of the Sun, you will need to google this)\n",
    "* `Me` (the mass of the Earth)\n",
    "* `Mm` (the mass of Mars)\n",
    "* `Mc = 6.39e20` (the mass of a comet)\n",
    "* `AU` (astronomical unit, distance between Earth and the Sun)\n",
    "* `daysec` (how many seconds are in a day)"
   ]
  },
  {
   "cell_type": "code",
   "execution_count": 20,
   "id": "bf78fffd-496d-42ff-9f45-2cfb5bcd594e",
   "metadata": {},
   "outputs": [],
   "source": [
    "G = 6.6743e-11\n",
    "Ms = 1.989e30\n",
    "Me = 5.9722e24\n",
    "Mm = 6.42e23\n",
    "Mc = 6.39e20\n",
    "AU = 1.496e11\n",
    "daysec = 86400"
   ]
  },
  {
   "cell_type": "markdown",
   "id": "01d33e24-f698-43c0-aba9-d3de786737b2",
   "metadata": {},
   "source": [
    "Now we will define some initial velocities in meters per second:\n",
    "* `e_ap_v` (Earth at aphelion, google it, make sure its in SI units)\n",
    "* `m_ap_v` (Mars at aphelion)\n",
    "* `commet_v = 7000` (speed of the comet)"
   ]
  },
  {
   "cell_type": "code",
   "execution_count": 23,
   "id": "f8c6c26b-4313-4e71-9ed2-2a2cf79c1302",
   "metadata": {},
   "outputs": [],
   "source": [
    "e_ap_v = 29300\n",
    "m_ap_v = 21970\n",
    "commet_v = 7000"
   ]
  },
  {
   "cell_type": "markdown",
   "id": "9950cce0-fe60-442f-85d1-94e9f38dadbc",
   "metadata": {},
   "source": [
    "Run the cell below to define some gravitational constants because we expect no mass loss:"
   ]
  },
  {
   "cell_type": "code",
   "execution_count": 69,
   "id": "b97494bc-bba0-4d4b-8e93-e18440253137",
   "metadata": {},
   "outputs": [],
   "source": [
    "gravconst_e = 9.8\n",
    "gravconst_m = 1.625"
   ]
  },
  {
   "cell_type": "markdown",
   "id": "ca693d0e-a9e5-4224-9fce-b7e3ef44acb5",
   "metadata": {},
   "source": [
    "Define the initial positions of the Earth, Mars and the comet. Here is the Earth as an example:\n",
    "* `xe, ye, ze = 1.0167 * AU, 0, 0`\n",
    "\n",
    "Follow the same pattern for Mars (where the `x` coordinate is at `1.666 * AU`, everything else is zero) and the comet (where the `x` coordinate is at `2* AU`, the `y` coordinate is `0.3 * AU` and the `z` coordinate is zero) . Remember the sun is at the origin! "
   ]
  },
  {
   "cell_type": "code",
   "execution_count": 47,
   "id": "ab71c0b1-2a11-4e00-bedb-58a41d5cd344",
   "metadata": {},
   "outputs": [],
   "source": [
    "xe, ye, ze = 1.0167 * AU, 0, 0\n",
    "xm, ym, zm, = 1.666 * AU, 0, 0\n",
    "xc, yx, zc, = 2 * AU, 0.3 * AU, 0"
   ]
  },
  {
   "cell_type": "markdown",
   "id": "622978bc-bba8-4cb2-bab3-2bb2cc89930e",
   "metadata": {},
   "source": [
    "We will do the same thing but for initial velocities. Here is Earth as an example:\n",
    "* `xve, yve, zve = 0, e_ap_v, 0`\n",
    "\n",
    "Make variables for Mars but with `m_ap_v` as the `y` coordinate. Make variables for the commet but with `commet_v` as the `y` coordinate."
   ]
  },
  {
   "cell_type": "code",
   "execution_count": 49,
   "id": "21f5bae8-2c2e-48e3-8ce9-c668b3be6f6d",
   "metadata": {},
   "outputs": [],
   "source": [
    "xve, yve, zve = 0, e_ap_v, 0\n",
    "xvm, yvm, zvm = 1, m_ap_v, 1\n",
    "xvc, yvc, zvc = 2, commet_v, 2"
   ]
  },
  {
   "cell_type": "markdown",
   "id": "7f075c9c-12a3-46c2-bc72-a4c11d90a29f",
   "metadata": {},
   "source": [
    "Assume the Sun is at the origin. Make initial positions and velocities for the Sun. It should not be moving so all its velocities coordinates are zero. "
   ]
  },
  {
   "cell_type": "code",
   "execution_count": 51,
   "id": "35a327db-eb02-4eb3-912c-6935dbb8472d",
   "metadata": {},
   "outputs": [],
   "source": [
    "xs, ys, zs = 0, 0, 0\n",
    "xvs, yvs, zvs = 0, 0, 0"
   ]
  },
  {
   "cell_type": "markdown",
   "id": "78b75bdd-093d-423a-9214-eb2c4affea0d",
   "metadata": {},
   "source": [
    "Now we will define some time parameters for our simulation. Create variable for the initial time `t` and set it to zero. Create a variable called `dt` for the change in time (steps per day) and set it to `1 * daysec`. Create a varible for `years` and set it to `5`. Finally, create a varible for `sim_years` and set it equal to `years * 365 * daysec`."
   ]
  },
  {
   "cell_type": "code",
   "execution_count": 53,
   "id": "2881a75b-9e40-4f96-8daf-53d460b1967d",
   "metadata": {},
   "outputs": [],
   "source": [
    "t = 0\n",
    "dt = 1 * daysec\n",
    "years = 5\n",
    "sim_years = years * 365 * daysec"
   ]
  },
  {
   "cell_type": "markdown",
   "id": "6d2ae77a-b65a-4395-9a66-9538a55eb3d9",
   "metadata": {},
   "source": [
    "Create empty lists to store all of your varibles. Run the cell below."
   ]
  },
  {
   "cell_type": "code",
   "execution_count": 75,
   "id": "136186bb-f513-4e0f-a4ab-4e06b58e6eb6",
   "metadata": {},
   "outputs": [],
   "source": [
    "# Store the orbits:\n",
    "xelist = []\n",
    "yelist = []\n",
    "xclist = []\n",
    "yclist = []\n",
    "xmlist = []\n",
    "ymlist = []"
   ]
  },
  {
   "cell_type": "markdown",
   "id": "48091e2d-6a74-4ae6-aaf2-d50718bff86c",
   "metadata": {},
   "source": [
    "## 3.2 Compute Gravitational Forces and Update Positions\n",
    "Goal:\n",
    "* Implement the **gravitational force equation** to calculate the force acting on each body.\n",
    "* Compute accelerations using $a = F/m$.\n",
    "* Update **velocity** and **position**.\n",
    "* Use a loop to update positions over **5 years**.\n",
    "* Store the results in lists for plotting.\n",
    "\n",
    "I will do this part for you, it requires some physics knowledge. But you need to turn this into a loop for when time is less than the simulation time. You want the loop to repeat it itself until that condition is met. "
   ]
  },
  {
   "cell_type": "code",
   "execution_count": 77,
   "id": "abfe3bdf-b2ce-4b98-a8ed-82dd8253f349",
   "metadata": {},
   "outputs": [
    {
     "ename": "NameError",
     "evalue": "name 'yc' is not defined",
     "output_type": "error",
     "traceback": [
      "\u001b[1;31m---------------------------------------------------------------------------\u001b[0m",
      "\u001b[1;31mNameError\u001b[0m                                 Traceback (most recent call last)",
      "Cell \u001b[1;32mIn[77], line 31\u001b[0m\n\u001b[0;32m     28\u001b[0m ymlist\u001b[38;5;241m.\u001b[39mappend(ym)\n\u001b[0;32m     30\u001b[0m \u001b[38;5;66;03m################ Comet ##############\u001b[39;00m\n\u001b[1;32m---> 31\u001b[0m rx_c, ry_c, rz_c \u001b[38;5;241m=\u001b[39m xc \u001b[38;5;241m-\u001b[39m xs, yc \u001b[38;5;241m-\u001b[39m ys, zc \u001b[38;5;241m-\u001b[39m zs\n\u001b[0;32m     32\u001b[0m modr3_c \u001b[38;5;241m=\u001b[39m (rx_c\u001b[38;5;241m*\u001b[39m\u001b[38;5;241m*\u001b[39m\u001b[38;5;241m2\u001b[39m \u001b[38;5;241m+\u001b[39m ry_c\u001b[38;5;241m*\u001b[39m\u001b[38;5;241m*\u001b[39m\u001b[38;5;241m2\u001b[39m \u001b[38;5;241m+\u001b[39m rz_c\u001b[38;5;241m*\u001b[39m\u001b[38;5;241m*\u001b[39m\u001b[38;5;241m2\u001b[39m)\u001b[38;5;241m*\u001b[39m\u001b[38;5;241m*\u001b[39m\u001b[38;5;241m1.5\u001b[39m\n\u001b[0;32m     33\u001b[0m fx_c \u001b[38;5;241m=\u001b[39m \u001b[38;5;241m-\u001b[39mgravconst_c \u001b[38;5;241m*\u001b[39m rx_c \u001b[38;5;241m/\u001b[39m modr3_c\n",
      "\u001b[1;31mNameError\u001b[0m: name 'yc' is not defined"
     ]
    }
   ],
   "source": [
    "# Your code here\n",
    "################ Earth #############\n",
    "rx, ry, rz = xe - xs, ye - ys, ze - zs\n",
    "modr3_e = (rx**2 + ry**2 + rz**2)**1.5\n",
    "fx_e = -gravconst_e * rx / modr3_e\n",
    "fy_e = -gravconst_e * ry / modr3_e\n",
    "    \n",
    "xve += fx_e * dt / Me\n",
    "yve += fy_e * dt / Me\n",
    "xe += xve * dt\n",
    "ye += yve * dt\n",
    "    \n",
    "xelist.append(xe)\n",
    "yelist.append(ye)\n",
    "\n",
    "################ Mars ##############\n",
    "rx_m, ry_m, rz_m = xm - xs, ym - ys, zm - zs\n",
    "modr3_m = (rx_m**2 + ry_m**2 + rz_m**2)**1.5\n",
    "fx_m = -gravconst_m * rx_m / modr3_m\n",
    "fy_m = -gravconst_m * ry_m / modr3_m\n",
    "    \n",
    "xvm += fx_m * dt / Mm\n",
    "yvm += fy_m * dt / Mm\n",
    "xm += xvm * dt\n",
    "ym += yvm * dt\n",
    "    \n",
    "xmlist.append(xm)\n",
    "ymlist.append(ym)\n",
    "\n",
    "################ Comet ##############\n",
    "rx_c, ry_c, rz_c = xc - xs, yc - ys, zc - zs\n",
    "modr3_c = (rx_c**2 + ry_c**2 + rz_c**2)**1.5\n",
    "fx_c = -gravconst_c * rx_c / modr3_c\n",
    "fy_c = -gravconst_c * ry_c / modr3_c\n",
    "    \n",
    "xvc += fx_c * dt / Mc\n",
    "yvc += fy_c * dt / Mc\n",
    "xc += xvc * dt\n",
    "yc += yvc * dt\n",
    "    \n",
    "xclist.append(xc)\n",
    "yclist.append(yc)\n",
    "\n",
    "################ Sun ##############\n",
    "xvs += -(fx_e + fx_m) * dt / Ms\n",
    "yvs += -(fy_e + fy_m) * dt / Ms\n",
    "xs += xvs * dt\n",
    "ys += yvs * dt\n",
    "xslist.append(xs)\n",
    "yslist.append(ys)\n",
    "\n",
    "t += dt"
   ]
  },
  {
   "cell_type": "markdown",
   "id": "119fee40-3154-4a6a-91de-46f3c547e7d4",
   "metadata": {},
   "source": [
    "## 3.3 Visualization\n",
    "Goal: Plot the Orbits\n",
    "* After simulating the motion, **plot the orbits of Earth, Mars and the comet**.\n",
    "* Label the **Sun**, **Earth**, **Mars**, and **Comet**.\n",
    "\n",
    "Start by making a figure, set the argument of`figsize=(8, 8)`.\n",
    "* Plot the `yelist` as a function of `xelist`. Do this for the `xm`, `xc` and `xs` lists as well. Make sure each line is a **different color**!\n",
    "  * The Sun will just be a point, so give it a markersize of `10`. Make it yellow.  \n",
    "* Give it a legend\n",
    "* Add an `xlabel` of `\"X Position (m)\"`.\n",
    "* Add an `ylabel` of `\"Y Position (m)\"`.\n",
    "* Give it a title.\n",
    "* Add a grid.\n",
    "* Show the plot."
   ]
  },
  {
   "cell_type": "code",
   "execution_count": null,
   "id": "fcb41bbc-403c-4d63-bb86-f68422528455",
   "metadata": {},
   "outputs": [],
   "source": [
    "# Your code here "
   ]
  },
  {
   "cell_type": "markdown",
   "id": "f8b87bd0-d5ca-4ae9-a0af-79fbe77af2a4",
   "metadata": {},
   "source": [
    "Goal: Animate the Motion\n",
    "* Create an animated visualization of planetary orbits.\n",
    "* Track the motion of each body over time.\n",
    "\n",
    "\\\n",
    "Follow the procedure from lecture. Here are some hints:\n",
    "* Set the `x` and `y` limits to `-3 * AU` to `3 * AU`. \\\n",
    "\n",
    "\n",
    "* Unpack the lines for Earth, Mars, the commet. Example: \n",
    "  * `line_e = axplot([], [], '-g', lw=1)` \\\n",
    "\n",
    "  \n",
    "* Unpack the points for Earth, Mars, the commet and the Sun. Example:\n",
    "  * `point_e, = ax.plot([],[],'bo',markersize=4)` \\\n",
    "\n",
    "* Give a title to each of the objects. Example:\n",
    "  * `text_e  = ax.text(AU,0,'Earth')`\n",
    "\n",
    "* Create the `update` function and update the lines, points and text you just unpacked. Example:\n",
    "  * `line_e.set_data(xelist[:i], yelist[:i])` \n",
    "  * `point_e.set_data(xelist[i], yelist[i])`\\\n",
    "  * `text_e.set_position((xelist[i],yelist[i]))`\n",
    "\n",
    "\n",
    "* Create the animation! Set `frames = len(xelist)`, `interval=1` and `blit=True`. "
   ]
  },
  {
   "cell_type": "code",
   "execution_count": null,
   "id": "e50f2ecf-ee37-4054-aab9-2b4243e4851f",
   "metadata": {},
   "outputs": [],
   "source": [
    "# Your code here"
   ]
  },
  {
   "cell_type": "markdown",
   "id": "6ce05065-b3b1-4c4c-a0e2-9ae54efb971b",
   "metadata": {},
   "source": [
    "## 3.4 Add Mercury, Venus and the Moon!\n",
    "As an extra challenge, give your best attempt at simulating Mercury, Venus and/or the Moon! I am not going to give you a ton of hints for this problem. Come to office hours if you have questions :)"
   ]
  },
  {
   "cell_type": "code",
   "execution_count": null,
   "id": "387cd33e-7270-4e16-b7fb-8b6588fd2cc5",
   "metadata": {},
   "outputs": [],
   "source": [
    "# Your code here"
   ]
  },
  {
   "cell_type": "markdown",
   "id": "1db677c8-8ae7-49ae-a7d7-68242ed38b67",
   "metadata": {},
   "source": [
    "Save you animation as a `.gif` or as a `.mp4`. Include this in your submission! This may take up to a couple mintutes!"
   ]
  },
  {
   "cell_type": "code",
   "execution_count": null,
   "id": "c83f3dd0-80eb-4b13-b291-f6e49a1590ea",
   "metadata": {},
   "outputs": [],
   "source": [
    "# Your code here\n",
    "anim.save(\"animation.mp4\", writer=\"ffmpeg\", fps=20)"
   ]
  },
  {
   "cell_type": "markdown",
   "id": "8e9e5858-fb81-45aa-91d1-3a52a189e0b3",
   "metadata": {},
   "source": [
    "Upload this notebook and your animations to Gradescope!"
   ]
  }
 ],
 "metadata": {
  "kernelspec": {
   "display_name": "Python 3 (ipykernel)",
   "language": "python",
   "name": "python3"
  },
  "language_info": {
   "codemirror_mode": {
    "name": "ipython",
    "version": 3
   },
   "file_extension": ".py",
   "mimetype": "text/x-python",
   "name": "python",
   "nbconvert_exporter": "python",
   "pygments_lexer": "ipython3",
   "version": "3.12.4"
  }
 },
 "nbformat": 4,
 "nbformat_minor": 5
}
